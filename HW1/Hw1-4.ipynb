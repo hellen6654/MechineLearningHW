{
 "cells": [
  {
   "cell_type": "code",
   "execution_count": 2,
   "metadata": {},
   "outputs": [
    {
     "name": "stderr",
     "output_type": "stream",
     "text": [
      "Using TensorFlow backend.\n"
     ]
    },
    {
     "data": {
      "text/plain": [
       "'OK'"
      ]
     },
     "execution_count": 2,
     "metadata": {},
     "output_type": "execute_result"
    }
   ],
   "source": [
    "import keras\n",
    "from sklearn import datasets\n",
    "from sklearn.linear_model import LinearRegression\n",
    "from sklearn.model_selection import train_test_split\n",
    "from sklearn.metrics import mean_squared_error\n",
    "import numpy as np\n",
    "'OK'"
   ]
  },
  {
   "cell_type": "markdown",
   "metadata": {},
   "source": [
    "### load data "
   ]
  },
  {
   "cell_type": "code",
   "execution_count": 3,
   "metadata": {},
   "outputs": [],
   "source": [
    "iris = datasets.load_iris()\n",
    "\n",
    "#print (iris)"
   ]
  },
  {
   "cell_type": "markdown",
   "metadata": {},
   "source": [
    "###   count len (target) \n",
    "####  target [] 山鳶尾花:0, 變色鳶尾花:1, 維吉尼亞鳶尾花:2"
   ]
  },
  {
   "cell_type": "code",
   "execution_count": 4,
   "metadata": {
    "scrolled": true
   },
   "outputs": [],
   "source": [
    "data = np.array(iris.data)\n",
    "#print(data)\n",
    "target = np.array(iris.target)\n",
    "target0 = target[target==0]\n",
    "#print(len(target0))\n",
    "target1 = target[target==1]\n",
    "#print(len(target1))\n",
    "target2 = target[target==2]\n",
    "#print(len(target2))"
   ]
  },
  {
   "cell_type": "markdown",
   "metadata": {},
   "source": [
    "### slice data"
   ]
  },
  {
   "cell_type": "code",
   "execution_count": 5,
   "metadata": {},
   "outputs": [],
   "source": [
    "times = 10\n",
    "count0 = int(len(target0))\n",
    "count1 = count0 + int(len(target1))\n",
    "count2 = count1 + int(len(target2))\n",
    "data0 = data[ 0:count0, :]\n",
    "#print(data0)\n",
    "data1 = data[ count0:count1, :]\n",
    "#print(data1)\n",
    "data2 = data[ count1:count2, :]\n",
    "#print(data2)"
   ]
  },
  {
   "cell_type": "markdown",
   "metadata": {},
   "source": [
    "# <font color='blue'> Class 0 :山鳶尾花 </font> \n",
    "### build model"
   ]
  },
  {
   "cell_type": "code",
   "execution_count": 6,
   "metadata": {},
   "outputs": [],
   "source": [
    "mse0 =[]\n",
    "for i in range(times):\n",
    "    data0Copy = data0.copy()\n",
    "    xTrain,xTest,yTrain,yTest=train_test_split(data0Copy[ :, :3 ],data0Copy[: , 3: ],test_size=0.3)\n",
    "    model = LinearRegression()\n",
    "    model.fit(xTrain,yTrain)\n",
    "    yPred = model.predict(xTest)\n",
    "    mse0.append(mean_squared_error(yTest,yPred))"
   ]
  },
  {
   "cell_type": "code",
   "execution_count": 7,
   "metadata": {},
   "outputs": [
    {
     "data": {
      "text/plain": [
       "0.01277268418976445"
      ]
     },
     "execution_count": 7,
     "metadata": {},
     "output_type": "execute_result"
    }
   ],
   "source": [
    "np.mean(mse0)"
   ]
  },
  {
   "cell_type": "markdown",
   "metadata": {},
   "source": [
    "# <font color='blue'>Class 1 :變色鳶尾花 </font>\n",
    "### build model"
   ]
  },
  {
   "cell_type": "code",
   "execution_count": 8,
   "metadata": {},
   "outputs": [],
   "source": [
    "mse1 =[]\n",
    "for i in range(times):\n",
    "    data1Copy = data1.copy()\n",
    "    xTrain,xTest,yTrain,yTest=train_test_split(data1Copy[ :, :3 ],data1Copy[: , 3: ],test_size=0.3)\n",
    "    model = LinearRegression()\n",
    "    model.fit(xTrain,yTrain)\n",
    "    yPred = model.predict(xTest)\n",
    "    mse1.append(mean_squared_error(yTest,yPred))"
   ]
  },
  {
   "cell_type": "code",
   "execution_count": 9,
   "metadata": {},
   "outputs": [
    {
     "data": {
      "text/plain": [
       "0.013276685806458476"
      ]
     },
     "execution_count": 9,
     "metadata": {},
     "output_type": "execute_result"
    }
   ],
   "source": [
    "np.mean(mse1)"
   ]
  },
  {
   "cell_type": "markdown",
   "metadata": {},
   "source": [
    "# <font color='blue'>Class 2:維吉尼亞鳶尾花</font>\n",
    "### build model"
   ]
  },
  {
   "cell_type": "code",
   "execution_count": 10,
   "metadata": {},
   "outputs": [],
   "source": [
    "mse2 =[]\n",
    "for i in range(times):\n",
    "    data2Copy = data2.copy()\n",
    "    xTrain,xTest,yTrain,yTest=train_test_split(data2Copy[ :, :3 ],data2Copy[: , 3: ],test_size=0.3)\n",
    "    model = LinearRegression()\n",
    "    model.fit(xTrain,yTrain)\n",
    "    yPred = model.predict(xTest)\n",
    "    mse2.append(mean_squared_error(yTest,yPred))"
   ]
  },
  {
   "cell_type": "code",
   "execution_count": 11,
   "metadata": {},
   "outputs": [
    {
     "data": {
      "text/plain": [
       "0.06350331323822535"
      ]
     },
     "execution_count": 11,
     "metadata": {},
     "output_type": "execute_result"
    }
   ],
   "source": [
    "np.mean(mse2)"
   ]
  },
  {
   "cell_type": "markdown",
   "metadata": {},
   "source": [
    "Q:線性回歸是否可以解決此問題？ 為什麼？\n",
    "A: 我覺得可以用來預測山鳶尾花與變色鳶尾花會比較準 因為這兩個的mse比維吉尼亞鳶尾花還低"
   ]
  }
 ],
 "metadata": {
  "kernelspec": {
   "display_name": "Python 3",
   "language": "python",
   "name": "python3"
  },
  "language_info": {
   "codemirror_mode": {
    "name": "ipython",
    "version": 3
   },
   "file_extension": ".py",
   "mimetype": "text/x-python",
   "name": "python",
   "nbconvert_exporter": "python",
   "pygments_lexer": "ipython3",
   "version": "3.7.6"
  }
 },
 "nbformat": 4,
 "nbformat_minor": 4
}
