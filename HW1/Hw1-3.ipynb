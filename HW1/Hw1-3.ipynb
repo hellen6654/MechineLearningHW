{
 "cells": [
  {
   "cell_type": "code",
   "execution_count": 4,
   "metadata": {},
   "outputs": [
    {
     "data": {
      "text/plain": [
       "'OK'"
      ]
     },
     "execution_count": 4,
     "metadata": {},
     "output_type": "execute_result"
    }
   ],
   "source": [
    "from sklearn.naive_bayes import GaussianNB\n",
    "from sklearn import datasets\n",
    "import numpy as np\n",
    "'OK'"
   ]
  },
  {
   "cell_type": "markdown",
   "metadata": {},
   "source": [
    "### load data \n",
    "#### 花萼長, 花萼寬, 花瓣長, 花瓣寬, 花種編號 (山鳶尾花:0, 變色鳶尾花:1, 維吉尼亞鳶尾花:2)"
   ]
  },
  {
   "cell_type": "code",
   "execution_count": 5,
   "metadata": {},
   "outputs": [
    {
     "data": {
      "text/plain": [
       "'ok'"
      ]
     },
     "execution_count": 5,
     "metadata": {},
     "output_type": "execute_result"
    }
   ],
   "source": [
    "iris = datasets.load_iris()\n",
    "'ok'"
   ]
  },
  {
   "cell_type": "markdown",
   "metadata": {},
   "source": [
    "### mix data&target ###"
   ]
  },
  {
   "cell_type": "code",
   "execution_count": 10,
   "metadata": {
    "scrolled": true
   },
   "outputs": [],
   "source": [
    "data = np.array(iris.data)\n",
    "#print(data)\n",
    "target = np.array(iris.target).reshape(150,1)\n",
    "#print(target)\n",
    "total = np.concatenate((data,target),axis = 1)\n",
    "#print(total)"
   ]
  },
  {
   "cell_type": "markdown",
   "metadata": {},
   "source": [
    "### bulid model ###"
   ]
  },
  {
   "cell_type": "code",
   "execution_count": 7,
   "metadata": {},
   "outputs": [],
   "source": [
    "times = int(10)\n",
    "count =int(len(total)*0.7) #105\n",
    "accuracies =[]\n",
    "for i in range(times):\n",
    "    copydata = total.copy()\n",
    "    np.random.shuffle(copydata)\n",
    "    subdata = copydata[0:count]\n",
    "    testdata = copydata[count:]\n",
    "    model = GaussianNB()\n",
    "    model.fit(subdata[: ,0:4],subdata[: ,4:].flatten())\n",
    "    #print(model)\n",
    "    predicts = model.predict(testdata[:,0:4])\n",
    "    #print(predicts)\n",
    "    results = predicts ==testdata[:,4:].flatten()\n",
    "    #print(results)\n",
    "    accuracy = round(np.sum(results)/len(results),2)\n",
    "    #print(accuracy)\n",
    "    accuracies.append(accuracy)\n",
    "#print(accuracies)"
   ]
  },
  {
   "cell_type": "markdown",
   "metadata": {},
   "source": [
    "### average accuracy ###"
   ]
  },
  {
   "cell_type": "code",
   "execution_count": 8,
   "metadata": {},
   "outputs": [
    {
     "name": "stdout",
     "output_type": "stream",
     "text": [
      "0.9460000000000001\n"
     ]
    }
   ],
   "source": [
    "print(np.sum(accuracies) / times)"
   ]
  }
 ],
 "metadata": {
  "kernelspec": {
   "display_name": "Python 3",
   "language": "python",
   "name": "python3"
  },
  "language_info": {
   "codemirror_mode": {
    "name": "ipython",
    "version": 3
   },
   "file_extension": ".py",
   "mimetype": "text/x-python",
   "name": "python",
   "nbconvert_exporter": "python",
   "pygments_lexer": "ipython3",
   "version": "3.7.6"
  }
 },
 "nbformat": 4,
 "nbformat_minor": 4
}
