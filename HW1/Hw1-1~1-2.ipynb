{
 "cells": [
  {
   "cell_type": "markdown",
   "metadata": {},
   "source": [
    "## 1.\n",
    "\n",
    "CNN：\n",
    "    1.\t需要調整參數\n",
    "    2.\t需要大量樣本\n",
    "    3.\t物理涵義不明確\n",
    "C4.5：\n",
    "    1.\t處理連續屬性耗時\n",
    "    2.\t計算訊息增益率速度慢\n",
    "Adaboost：\n",
    "    1.\t疊代次數不好設定\n",
    "    2.\t數據不平衡導致分類精度下降\n",
    "    3.\t訓練較耗時"
   ]
  },
  {
   "cell_type": "markdown",
   "metadata": {},
   "source": [
    "## 2. \n",
    "假設有10000人\n",
    "會有10個人 是假陽性\n",
    "驗出陽性的人會有1個\n",
    "=>1/11 ≒ 0.09 ≒ 9％"
   ]
  },
  {
   "cell_type": "code",
   "execution_count": 1,
   "metadata": {},
   "outputs": [
    {
     "data": {
      "text/plain": [
       "0.09090909090909091"
      ]
     },
     "execution_count": 1,
     "metadata": {},
     "output_type": "execute_result"
    }
   ],
   "source": [
    "1/11"
   ]
  }
 ],
 "metadata": {
  "kernelspec": {
   "display_name": "Python 3",
   "language": "python",
   "name": "python3"
  },
  "language_info": {
   "codemirror_mode": {
    "name": "ipython",
    "version": 3
   },
   "file_extension": ".py",
   "mimetype": "text/x-python",
   "name": "python",
   "nbconvert_exporter": "python",
   "pygments_lexer": "ipython3",
   "version": "3.7.6"
  }
 },
 "nbformat": 4,
 "nbformat_minor": 4
}
