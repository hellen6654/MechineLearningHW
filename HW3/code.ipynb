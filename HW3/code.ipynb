{
 "cells": [
  {
   "cell_type": "markdown",
   "metadata": {},
   "source": [
    "# 4"
   ]
  },
  {
   "cell_type": "code",
   "execution_count": 477,
   "metadata": {
    "scrolled": true
   },
   "outputs": [
    {
     "data": {
      "image/png": "[encoded data removed]",
      "text/plain": [
       "<Figure size 432x288 with 1 Axes>"
      ]
     },
     "metadata": {
      "needs_background": "light"
     },
     "output_type": "display_data"
    }
   ],
   "source": [
    "import pandas as pd\n",
    "import numpy as np\n",
    "from numpy import linalg as LA\n",
    "from sklearn.model_selection import train_test_split\n",
    "import matplotlib.pyplot as plt\n",
    "'''\n",
    "參考  http://www.cs.otago.ac.nz/cosc453/student_tutorials/principal_components.pdf\n",
    "page.13 - CH3 \n",
    "'''\n",
    "\n",
    "'''\n",
    "step 1 Get some data\n",
    "'''\n",
    "data = pd.read_csv('https://archive.ics.uci.edu/ml/machine-learning-databases/breast-cancer-wisconsin/breast-cancer-wisconsin.data'\n",
    "                   , header=None)\n",
    "data.columns = ['Sample code', 'Clump Thickness', 'Uniformity of Cell Size', 'Uniformity of Cell Shape',\n",
    "                'Marginal Adhesion', 'Single Epithelial Cell Size', 'Bare Nuclei', 'Bland Chromatin',\n",
    "                'Normal Nucleoli', 'Mitoses','Class']\n",
    "data = data.drop(['Sample code'],axis=1)\n",
    "dataClass = data['Class'].to_numpy(dtype='float')\n",
    "data = data.drop(['Class'],axis=1)\n",
    "data = data.replace('?',np.NaN)\n",
    "data = data.to_numpy(dtype='float')\n",
    "for i in range(data.shape[1]):\n",
    "    data[np.isnan(data[:,i])] = np.nanmean(data[:,i]) #把NaN用mean取代\n",
    "dataTrain,dataTest,classTrain,classTest = train_test_split(data,dataClass,test_size = 0.3)\n",
    "'''\n",
    "step 2 Subtract the mean\n",
    "'''\n",
    "dataMean = np.mean(dataTrain,axis = 0)\n",
    "subMeanData = np.subtract(dataTrain,dataMean)\n",
    "'''\n",
    "step 3 Calculate the covariance matrix\n",
    "'''\n",
    "cov = np.mat(np.cov(subMeanData,rowvar=0)) #算完cov 再從ndarray 轉成 matrix\n",
    "'''\n",
    "step 4 Calculate the eigenvectors and eigenvalues of the covariance matrix\n",
    "'''\n",
    "e_value,e_vector = LA.eig(cov)\n",
    "e_valueSortedIndex = np.argsort(e_value)[::-1] #用value排序 value在原array的index 再從大排到小 #0 1 2 4 5 6 8 7 3\n",
    "#===================================================#\n",
    "'''\n",
    "Plot PoV(k) for k from 1 to 9 for the training set\n",
    "'''\n",
    "sortE_value = np.sort(e_value)[::-1] #從大排到小\n",
    "total = np.sum(sortE_value) #加總\n",
    "PoV = [ 0 for i in range(dataTrain.shape[1])]\n",
    "for i in range(dataTrain.shape[1]):\n",
    "    PoV[i] = np.sum(sortE_value[:i+1]) / total\n",
    "plt.grid()\n",
    "plt.plot([ i for i in range(1,data.shape[1]+1)] , PoV,'-o')\n",
    "plt.plot( [ i for i in range(1,data.shape[1]+1)],[0.9 for i in range(9)],'r-')\n",
    "plt.show()\n",
    "#===================================================#\n",
    "'''\n",
    "step 5 Choosing components and forming a feature vector\n",
    "'''\n",
    "N = 4\n",
    "pickedE_valueIndex = e_valueSortedIndex[:N]\n",
    "pickedE_vector = e_vector[:,pickedE_valueIndex]\n",
    "'''\n",
    "stop 5 Deriving the new data set \n",
    "pdf的step標錯 \n",
    "'''\n",
    "lowDimData =  subMeanData * pickedE_vector "
   ]
  },
  {
   "cell_type": "markdown",
   "metadata": {},
   "source": [
    "# 5"
   ]
  },
  {
   "cell_type": "code",
   "execution_count": 455,
   "metadata": {},
   "outputs": [],
   "source": [
    "import pandas as pd\n",
    "import numpy as np\n",
    "from numpy import linalg as LA\n",
    "from sklearn.model_selection import train_test_split\n",
    "from sklearn.neighbors import KNeighborsClassifier\n",
    "from sklearn import metrics\n",
    "import matplotlib.pyplot as plt\n",
    "def PCA(dataTrain):\n",
    "    N = -1\n",
    "    dataMean = np.mean(dataTrain,axis = 0)\n",
    "    subMeanData = np.subtract(dataTrain,dataMean)\n",
    "    cov = np.mat(np.cov(subMeanData,rowvar=0)) #算完cov 再從ndarray 轉成 matrix\n",
    "    e_value,e_vector = LA.eig(cov)\n",
    "    sortE_value = np.sort(e_value)[::-1] #從大排到小\n",
    "    total = np.sum(sortE_value) #加總\n",
    "    PoV = [ 0 for i in range(dataTrain.shape[1])]\n",
    "    for i in range(dataTrain.shape[1]):\n",
    "        PoV[i] = np.sum(sortE_value[:i+1]) / total\n",
    "        if PoV[i] >= 0.9 and N== -1:\n",
    "            N = i+1\n",
    "    e_valueSortedIndex = np.argsort(e_value)[::-1] #用value排序 value在原array的index 再從大排到小 \n",
    "    pickedE_valueIndex = e_valueSortedIndex[:N]\n",
    "    pickedE_vector = e_vector[:,pickedE_valueIndex]\n",
    "    lowDimData =  subMeanData * pickedE_vector  # 降維之後的data\n",
    "    return lowDimData"
   ]
  },
  {
   "cell_type": "code",
   "execution_count": 476,
   "metadata": {},
   "outputs": [
    {
     "name": "stdout",
     "output_type": "stream",
     "text": [
      "沒有經過PCA:\n",
      " 0.9661904761904762\n",
      "PCA:\n",
      " 0.9685714285714286\n"
     ]
    }
   ],
   "source": [
    "data = pd.read_csv('https://archive.ics.uci.edu/ml/machine-learning-databases/breast-cancer-wisconsin/breast-cancer-wisconsin.data'\n",
    "                   , header=None)\n",
    "data.columns = ['Sample code', 'Clump Thickness', 'Uniformity of Cell Size', 'Uniformity of Cell Shape',\n",
    "                'Marginal Adhesion', 'Single Epithelial Cell Size', 'Bare Nuclei', 'Bland Chromatin',\n",
    "                'Normal Nucleoli', 'Mitoses','Class']\n",
    "data = data.drop(['Sample code'],axis=1)\n",
    "dataClass = data['Class'].to_numpy(dtype='float')\n",
    "data = data.drop(['Class'],axis=1)\n",
    "data = data.replace('?',np.NaN)\n",
    "data = data.to_numpy(dtype='float')\n",
    "for i in range(data.shape[1]):\n",
    "    data[np.isnan(data[:,i])] = np.nanmean(data[:,i]) #把NaN用mean取代\n",
    "accKnnTotal = []\n",
    "accknnPCA = []\n",
    "'''\n",
    "把所有資料放進去 knn \n",
    "'''\n",
    "for i in range(10):\n",
    "    dataTrain,dataTest,classTrain,classTest = train_test_split(data,dataClass,test_size = 0.3)\n",
    "    knn = KNeighborsClassifier(n_neighbors=5)\n",
    "    knn.fit(dataTrain,classTrain)\n",
    "    accKnnTotal.append(knn.score(dataTest,classTest))\n",
    "print('沒有經過PCA:\\n',np.mean(accKnnTotal))\n",
    "'''\n",
    "把經過PCA的資料放進去knn\n",
    "'''\n",
    "for i in range(10):\n",
    "    pcaData = PCA(data) \n",
    "    dataTrain,dataTest,classTrain,classTest = train_test_split(pcaData,dataClass,test_size = 0.3)\n",
    "    knn = KNeighborsClassifier(n_neighbors=5)\n",
    "    knn.fit(dataTrain,classTrain)\n",
    "    accknnPCA.append(knn.score(dataTest,classTest))\n",
    "print('PCA:\\n',np.mean(accknnPCA))"
   ]
  }
 ],
 "metadata": {
  "kernelspec": {
   "display_name": "Python 3",
   "language": "python",
   "name": "python3"
  },
  "language_info": {
   "codemirror_mode": {
    "name": "ipython",
    "version": 3
   },
   "file_extension": ".py",
   "mimetype": "text/x-python",
   "name": "python",
   "nbconvert_exporter": "python",
   "pygments_lexer": "ipython3",
   "version": "3.7.6"
  }
 },
 "nbformat": 4,
 "nbformat_minor": 4
}
