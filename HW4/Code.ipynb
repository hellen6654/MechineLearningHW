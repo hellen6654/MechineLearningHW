{
 "cells": [
  {
   "cell_type": "markdown",
   "metadata": {},
   "source": [
    "# 2"
   ]
  },
  {
   "cell_type": "code",
   "execution_count": null,
   "metadata": {},
   "outputs": [],
   "source": [
    "import numpy as np\n",
    "from sklearn.datasets import load_iris\n",
    "from sklearn.decomposition import FactorAnalysis\n",
    "from sklearn.neighbors import KNeighborsClassifier\n",
    "from sklearn.model_selection import train_test_split\n",
    "data = load_iris()['data']\n",
    "dataClass = load_iris()['target']\n",
    "acc = []\n",
    "for i in range(10):\n",
    "    trainData,testData,trainClass,testClass, = train_test_split(data,dataClass,test_size=0.3)\n",
    "    fa = FactorAnalysis(n_components=3)\n",
    "    fa.fit(trainData)\n",
    "    trainData = fa.transform(trainData)\n",
    "    testData = fa.transform(testData)\n",
    "    knn = KNeighborsClassifier()\n",
    "    knn.fit(trainData,trainClass)\n",
    "    acc.append(knn.score(testData,testClass))\n",
    "np.mean(acc)"
   ]
  },
  {
   "cell_type": "markdown",
   "metadata": {},
   "source": [
    "# 5"
   ]
  },
  {
   "cell_type": "code",
   "execution_count": 44,
   "metadata": {},
   "outputs": [],
   "source": [
    "from sklearn.datasets import load_iris\n",
    "import numpy as np\n",
    "import matplotlib.pyplot as plt\n",
    "data =load_iris()['data'] #花的屬性\n",
    "target = load_iris()['target'] # 花的類別\n",
    "wRow = 39\n",
    "wCol = 39\n",
    "dim = 4\n",
    "def d(v1,v2):\n",
    "    return np.linalg.norm(v1 - v2)\n",
    "\n",
    "w = np.random.random_sample(size=(wRow,wCol,dim))\n",
    "# λ = NumIteration/MapRadius\n",
    "Lambda = 5000 / (39*np.sqrt(2))\n",
    "# γ（0） = 0.05 => σ0\n",
    "sigma0 = np.sqrt( (-1 *d(np.array([0,0]),np.array([19,19]))**2)  / (np.log(0.05) * 2))\n",
    "# η（0） = 0.1  => η0\n",
    "eta0 = 0.1 / np.exp( 0 / Lambda )\n",
    "\n",
    "def closestNode(data):\n",
    "    result = (0,0)\n",
    "    smallD = 1.0e20\n",
    "    for i in range(wRow):\n",
    "        for j in range(wCol):\n",
    "            if d(w[i][j] , data) < smallD:    \n",
    "                smallD = d(w[i][j] , data)\n",
    "                result =( i , j )\n",
    "    return result\n",
    "\n",
    "# η( t ) = η0 * exp( -t / λ )\n",
    "def getEta(t):\n",
    "    return eta0 * np.exp( -t / Lambda)\n",
    "\n",
    "#σ( t ) = σ0 * exp( -t / λ )\n",
    "def getSigma(t):\n",
    "    return sigma0 * np.exp( -t /Lambda)\n",
    "\n",
    "#γ( t ) = exp(  (-|| ( i , j )  - ( i0 , j0 )  ||^2 )  /  2 (σ( t )^2) )\n",
    "def getGamma(t,v1,v2):\n",
    "    return np.exp(  -1 * (d(v1,v2)**2)  / ((getSigma(t) ** 2) *2))\n",
    "\n",
    "def common(data,n):\n",
    "    if len(data) == 0 :\n",
    "        return -1\n",
    "    count = np.zeros(shape=n, dtype=np.int)\n",
    "    for i in range(len(data)):\n",
    "        count[data[i]] += 1\n",
    "    return np.argmax(count) "
   ]
  },
  {
   "cell_type": "code",
   "execution_count": 10,
   "metadata": {},
   "outputs": [
    {
     "name": "stdout",
     "output_type": "stream",
     "text": [
      "λ： 90.65471553673686\n",
      "η0： 0.1\n",
      "σ0： 10.977466030510666\n"
     ]
    }
   ],
   "source": [
    "print('λ：',Lambda)\n",
    "print('η0：',eta0)\n",
    "print('σ0：',sigma0)"
   ]
  },
  {
   "cell_type": "code",
   "execution_count": 51,
   "metadata": {},
   "outputs": [
    {
     "name": "stdout",
     "output_type": "stream",
     "text": [
      "0\n",
      "1000\n",
      "2000\n",
      "3000\n",
      "4000\n"
     ]
    }
   ],
   "source": [
    "for times in range(5000):\n",
    "    if times%1000==0:\n",
    "        print(times)\n",
    "    index = np.random.randint(len(data)) # Get a training sample index\n",
    "    (i0,j0) = closestNode(data[index]) #BMU\n",
    "    for i in range(wRow):\n",
    "        for j in range(wCol): \n",
    "                w[i][j] = w[i][j] + getEta(times) * getGamma(times,np.array([i0,j0]),np.array([i,j])) * (data[index]-w[i][j])"
   ]
  },
  {
   "cell_type": "code",
   "execution_count": 54,
   "metadata": {},
   "outputs": [
    {
     "data": {
      "image/png": "[encoded data removed]",
      "text/plain": [
       "<Figure size 432x288 with 1 Axes>"
      ]
     },
     "metadata": {
      "needs_background": "light"
     },
     "output_type": "display_data"
    }
   ],
   "source": [
    "# U-matrix\n",
    "u = np.zeros(shape=(wRow,wCol),dtype=np.float64)\n",
    "for i in range(wRow):\n",
    "    for j in range(wCol):\n",
    "        v=w[i][j]\n",
    "        total = 0.0\n",
    "        count =0\n",
    "        if i-1 >= 0:\n",
    "            total += d(v,w[i-1][j])\n",
    "            count+=1\n",
    "        if i+1 < wRow:\n",
    "            total += d(v,w[i+1][j])\n",
    "            count+=1\n",
    "        if j-1 >= 0:\n",
    "            total += d(v,w[i][j-1])\n",
    "            count+=1\n",
    "        if j+1 < wCol:\n",
    "            total += d(v,w[i][j+1])\n",
    "            count+=1\n",
    "        u[i][j] = total\n",
    "plt.imshow(u, cmap=\"Greys\")\n",
    "plt.show()"
   ]
  },
  {
   "cell_type": "code",
   "execution_count": 53,
   "metadata": {},
   "outputs": [
    {
     "data": {
      "image/png": "[encoded data removed]",
      "text/plain": [
       "<Figure size 432x288 with 2 Axes>"
      ]
     },
     "metadata": {
      "needs_background": "light"
     },
     "output_type": "display_data"
    }
   ],
   "source": [
    "m = np.empty( shape=(wRow,wCol),dtype = object )\n",
    "label = np.zeros(shape=(wRow,wCol), dtype=np.int)\n",
    "for i in range(wRow):\n",
    "    for j in range(wCol):\n",
    "        m[i][j] = [  ]\n",
    "for i in range(len(data)):\n",
    "    (i0,j0) =closestNode(data[i])\n",
    "    m[i0][j0].append(target[i])\n",
    "for i in range(wRow):\n",
    "    for j in range(wCol):\n",
    "        label[i][j] =common(m[i][j],3)\n",
    "plt.imshow(label, cmap=plt.cm.get_cmap('terrain_r', 4))\n",
    "plt.colorbar()\n",
    "plt.show()"
   ]
  }
 ],
 "metadata": {
  "kernelspec": {
   "display_name": "Python 3",
   "language": "python",
   "name": "python3"
  },
  "language_info": {
   "codemirror_mode": {
    "name": "ipython",
    "version": 3
   },
   "file_extension": ".py",
   "mimetype": "text/x-python",
   "name": "python",
   "nbconvert_exporter": "python",
   "pygments_lexer": "ipython3",
   "version": "3.7.6"
  }
 },
 "nbformat": 4,
 "nbformat_minor": 4
}
