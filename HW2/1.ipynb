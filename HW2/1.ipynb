{
 "cells": [
  {
   "cell_type": "code",
   "execution_count": 6,
   "metadata": {},
   "outputs": [],
   "source": [
    "from sklearn import datasets\n",
    "from sklearn.model_selection import train_test_split\n",
    "from sklearn.neighbors import KNeighborsClassifier\n",
    "from sklearn import metrics\n",
    "import numpy as np\n",
    "import matplotlib.pyplot as plt\n",
    "\n",
    "total = datasets.load_iris()\n",
    "\n",
    "accuracies = []\n",
    "KNNAccuracies=[]\n",
    "for k in range(1,16,2):\n",
    "    for i in range(10):\n",
    "        trainData,testData,trainLabel,testLabel = train_test_split(total.data,total.target,test_size = 0.3)\n",
    "        knn = KNeighborsClassifier(n_neighbors=k)\n",
    "        knn.fit(trainData,trainLabel)\n",
    "        preditcts = knn.predict(testData)\n",
    "        accuracies.append(metrics.accuracy_score(testLabel,preditcts))\n",
    "    KNNAccuracies.append(np.mean(accuracies))\n",
    "#print(KNNAccuracies)\n",
    "plt.grid()\n",
    "plt.ylim(.94,.99)\n",
    "plt.plot(range(1,16,2),KNNAccuracies,'ro-')\n",
    "#plt.savefig('1')"
   ]
  }
 ],
 "metadata": {
  "kernelspec": {
   "display_name": "Python 3",
   "language": "python",
   "name": "python3"
  },
  "language_info": {
   "codemirror_mode": {
    "name": "ipython",
    "version": 3
   },
   "file_extension": ".py",
   "mimetype": "text/x-python",
   "name": "python",
   "nbconvert_exporter": "python",
   "pygments_lexer": "ipython3",
   "version": "3.7.6"
  }
 },
 "nbformat": 4,
 "nbformat_minor": 4
}
