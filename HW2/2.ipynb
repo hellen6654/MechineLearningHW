{
 "cells": [
  {
   "cell_type": "code",
   "execution_count": 193,
   "metadata": {},
   "outputs": [],
   "source": [
    "from sklearn import datasets\n",
    "import scipy.stats\n",
    "import numpy as np\n",
    "import matplotlib.pyplot as plt\n",
    "from sklearn.model_selection import train_test_split"
   ]
  },
  {
   "cell_type": "code",
   "execution_count": 194,
   "metadata": {},
   "outputs": [],
   "source": [
    "def predict_Bayes_class(X,mus,sigmas): \n",
    "    scores = []\n",
    "    classes = len(mus)\n",
    "    for p in range(classes):\n",
    "        score = scipy.stats.multivariate_normal.pdf(X, mean=mus[p], cov=sigmas[p])\n",
    "        scores.append(score)\n",
    "    return np.argmax(scores)"
   ]
  },
  {
   "cell_type": "code",
   "execution_count": 195,
   "metadata": {},
   "outputs": [],
   "source": [
    "iris = datasets.load_iris()\n",
    "data = iris.data\n",
    "dataA = iris.data[:50,:]\n",
    "dataB = iris.data[50:100,:]\n",
    "dataC = iris.data[100:150,:]"
   ]
  },
  {
   "cell_type": "code",
   "execution_count": 196,
   "metadata": {},
   "outputs": [],
   "source": [
    "muA = np.array ( [ np.mean(dataA.T[i])  for i in range(4)]).T\n",
    "covA = np.cov(dataA.T)\n",
    "muB = np.array ([ np.mean(dataB.T[i] ) for i in range(4)]).T\n",
    "covB = np.cov(dataB.T)\n",
    "muC = np.array ([ np.mean(dataC.T[i] ) for i in range(4)]).T\n",
    "covC = np.cov(dataC.T)\n",
    "mu = [muA,muB,muC]\n",
    "cov = [covA,covB,covC]"
   ]
  },
  {
   "cell_type": "code",
   "execution_count": 197,
   "metadata": {},
   "outputs": [
    {
     "data": {
      "text/plain": [
       "0.98"
      ]
     },
     "execution_count": 197,
     "metadata": {},
     "output_type": "execute_result"
    }
   ],
   "source": [
    "predicted = np.array(  [predict_Bayes_class(np.array([ww,xx,yy,zz]),mu,cov) \n",
    "                     for ww,xx,yy,zz in zip(np.ravel(data[:,0]), np.ravel(data[:,1]), np.ravel(data[:,2]), np.ravel(data[:,3]) ) ] )\n",
    "results = predicted==iris.target\n",
    "round(np.sum(results)/len(results),2)"
   ]
  }
 ],
 "metadata": {
  "kernelspec": {
   "display_name": "Python 3",
   "language": "python",
   "name": "python3"
  },
  "language_info": {
   "codemirror_mode": {
    "name": "ipython",
    "version": 3
   },
   "file_extension": ".py",
   "mimetype": "text/x-python",
   "name": "python",
   "nbconvert_exporter": "python",
   "pygments_lexer": "ipython3",
   "version": "3.7.6"
  }
 },
 "nbformat": 4,
 "nbformat_minor": 4
}
